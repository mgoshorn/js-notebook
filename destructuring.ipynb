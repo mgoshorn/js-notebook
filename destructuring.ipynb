{
 "cells": [
  {
   "cell_type": "markdown",
   "metadata": {},
   "source": [
    "# JavaScript Destructuring\n",
    "-----\n",
    "\n",
    "Destructuring is a useful operation when you want to provide more canonical usage of values embedded in a data structure. This operation will allow you to easily remove them from the datastructure so that they can be used more easily.\n",
    "\n",
    "-----\n",
    "\n",
    "## Destructuring Arrays\n",
    "\n",
    "Suppose I have the following array and would like to work with the values as independent variables. You might be tempted to manually assign declare the variables and assign them based on the index, but there is an easier way!\n"
   ]
  },
  {
   "cell_type": "code",
   "execution_count": 1,
   "metadata": {},
   "outputs": [
    {
     "name": "stdout",
     "output_type": "stream",
     "text": [
      "[ 20, 30, 50 ]\n"
     ]
    }
   ],
   "source": [
    "const arr = [20, 30, 50];\n",
    "console.log(arr);"
   ]
  },
  {
   "cell_type": "code",
   "execution_count": 2,
   "metadata": {},
   "outputs": [
    {
     "name": "stdout",
     "output_type": "stream",
     "text": [
      "20 30 50\n"
     ]
    }
   ],
   "source": [
    "let [a, b, c] = arr;\n",
    "console.log(a, b, c);"
   ]
  },
  {
   "cell_type": "markdown",
   "metadata": {},
   "source": [
    "The arrays three values (20, 30, 50) were assigned to the newly declared variables (a, b, c). Take a look at another example with an array literal. We should note that the values are assigned based on the ordinal positions of the values in the array and the ordinal position of the variables."
   ]
  },
  {
   "cell_type": "code",
   "execution_count": 3,
   "metadata": {},
   "outputs": [
    {
     "name": "stdout",
     "output_type": "stream",
     "text": [
      "100 200 500\n"
     ]
    }
   ],
   "source": [
    "[a, b, c] = [100, 200, 500];\n",
    "console.log(a, b, c);"
   ]
  },
  {
   "cell_type": "markdown",
   "metadata": {},
   "source": [
    "#### Use with Rest Operator\n",
    "*What if we had more values than defined keys?*\n",
    "\n",
    "In this case, we could utilize JavaScripts **rest operator** *`[...]`* like we would in a function to combine the remaining items into an array or object. In the following example we can see that the values `0`, `1`, and `2` are assigned to the variables `x`, `y`, and `z` - the remaining array values are copied into hte array `remainder`."
   ]
  },
  {
   "cell_type": "code",
   "execution_count": 4,
   "metadata": {},
   "outputs": [
    {
     "name": "stdout",
     "output_type": "stream",
     "text": [
      "[ 0, 1, 2, 3, 4, 5, 6, 7, 8, 9 ]\n",
      "0 1 2 [ 3, 4, 5, 6, 7, 8, 9 ]\n"
     ]
    }
   ],
   "source": [
    "let bigArr = [...new Array(10).keys()];\n",
    "console.log(bigArr);\n",
    "\n",
    "let [x, y, z, ...remainder] = bigArr;\n",
    "console.log(x, y, z, remainder);"
   ]
  },
  {
   "cell_type": "markdown",
   "metadata": {},
   "source": [
    "---\n",
    "\n",
    "## Destructuring Objects\n",
    "\n",
    "We can also use this syntax to destructure objects! However, because object keys may not be accessible in an ordinal fashion in any consistent way, in order to work with the existing syntax we must ensure that the variable names match the object keys, otherwise they will be left undefined."
   ]
  },
  {
   "cell_type": "code",
   "execution_count": 5,
   "metadata": {},
   "outputs": [
    {
     "name": "stdout",
     "output_type": "stream",
     "text": [
      "Billy 2019-06-19T20:12:41.209Z chicken\n"
     ]
    }
   ],
   "source": [
    "const person = {\n",
    "    name: 'Billy',\n",
    "    birthdate: new Date(),\n",
    "    favoriteAnimal: 'chicken'\n",
    "};\n",
    "\n",
    "let {name, birthdate, favoriteAnimal} = person;\n",
    "\n",
    "console.log(name, birthdate.toISOString(), favoriteAnimal);"
   ]
  },
  {
   "cell_type": "markdown",
   "metadata": {},
   "source": [
    "*Note: If the variables do not utilize a declaration keyword, then the entire expression must be nested inside of parenthesis!*\n",
    "\n",
    "ex) This should produce an error:"
   ]
  },
  {
   "cell_type": "code",
   "execution_count": 6,
   "metadata": {},
   "outputs": [
    {
     "ename": "SyntaxError",
     "evalue": "Unexpected token =",
     "output_type": "error",
     "traceback": [
      "evalmachine.<anonymous>:1",
      "{name, birthdate, favoriteAnimal} = person;",
      "                                  ^",
      "",
      "SyntaxError: Unexpected token =",
      "    at createScript (vm.js:80:10)",
      "    at Object.runInThisContext (vm.js:139:10)",
      "    at run ([eval]:1002:15)",
      "    at onRunRequest ([eval]:829:18)",
      "    at onMessage ([eval]:789:13)",
      "    at emitTwo (events.js:126:13)",
      "    at process.emit (events.js:214:7)",
      "    at emit (internal/child_process.js:772:12)",
      "    at _combinedTickCallback (internal/process/next_tick.js:141:11)",
      "    at process._tickCallback (internal/process/next_tick.js:180:9)"
     ]
    }
   ],
   "source": [
    "{name, birthdate, favoriteAnimal} = person;\n",
    "console.log(name, birthdate.toISOString(), favoriteAnimal);"
   ]
  },
  {
   "cell_type": "markdown",
   "metadata": {},
   "source": [
    "But this should work:"
   ]
  },
  {
   "cell_type": "code",
   "execution_count": 7,
   "metadata": {},
   "outputs": [
    {
     "name": "stdout",
     "output_type": "stream",
     "text": [
      "Billy 2019-06-19T20:12:41.209Z chicken\n"
     ]
    }
   ],
   "source": [
    "({name, birthdate, favoriteAnimal} = person);\n",
    "console.log(name, birthdate.toISOString(), favoriteAnimal);"
   ]
  },
  {
   "cell_type": "markdown",
   "metadata": {},
   "source": [
    "#### Using Different Identifiers\n",
    "What if the variables that we would like to use are different than the object keys? In this situation, we simply use object notation with the key being destructured object key and the value being the identifier we would like to use. In the following example, we map the keys of person to the variables `a`, `b`, `c`, and `d`. For instance the portion `{name: a, ...} = person` dictates that the value of `person.name` should be assigned to the variable `a`"
   ]
  },
  {
   "cell_type": "code",
   "execution_count": 8,
   "metadata": {},
   "outputs": [
    {
     "name": "stdout",
     "output_type": "stream",
     "text": [
      "Billy 2019-06-19T20:12:41.209Z chicken\n"
     ]
    }
   ],
   "source": [
    "({name: a, birthdate: b, favoriteAnimal: c} = person);\n",
    "console.log(a, b.toISOString(), c);"
   ]
  },
  {
   "cell_type": "markdown",
   "metadata": {},
   "source": [
    "#### Default Values\n",
    "Default values can also be supplied for the situation in which you want to provide some default value to a variable incase the destructured object has no value for it."
   ]
  },
  {
   "cell_type": "code",
   "execution_count": 9,
   "metadata": {},
   "outputs": [
    {
     "name": "stdout",
     "output_type": "stream",
     "text": [
      "Billy 2019-06-19T20:12:41.209Z chicken blue\n"
     ]
    }
   ],
   "source": [
    "({name: a, birthdate: b, favoriteAnimal: c, favoriteColor: d = 'blue'} = person);\n",
    "console.log(a, b.toISOString(), c, d);"
   ]
  },
  {
   "cell_type": "markdown",
   "metadata": {},
   "source": [
    "#### Rest Operator\n",
    "Just like with arrays, we can use the **rest operator** to combine remaining fields into an object."
   ]
  },
  {
   "cell_type": "code",
   "execution_count": 10,
   "metadata": {},
   "outputs": [
    {
     "name": "stdout",
     "output_type": "stream",
     "text": [
      "Billy\n",
      "{ birthdate: 2019-06-19T20:12:41.209Z,\n",
      "  favoriteAnimal: 'chicken' }\n"
     ]
    }
   ],
   "source": [
    "({name: a, ...remainder} = person);\n",
    "console.log(a);\n",
    "console.log(remainder);"
   ]
  },
  {
   "cell_type": "code",
   "execution_count": null,
   "metadata": {},
   "outputs": [],
   "source": []
  }
 ],
 "metadata": {
  "kernelspec": {
   "display_name": "Javascript (Node.js)",
   "language": "javascript",
   "name": "javascript"
  },
  "language_info": {
   "file_extension": ".js",
   "mimetype": "application/javascript",
   "name": "javascript",
   "version": "8.10.0"
  }
 },
 "nbformat": 4,
 "nbformat_minor": 2
}
