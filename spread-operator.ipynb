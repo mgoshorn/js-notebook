{
 "cells": [
  {
   "cell_type": "markdown",
   "metadata": {},
   "source": [
    "# Spread Operator [...]\n",
    "\n",
    "Copying and combining arrays and objects can be a syntax heavy process for what is often considered to be a relatively common and simple operation. The **spread** operator is intended to provide a simpler way to access array and object properties as a set of individual items to make this process easier."
   ]
  },
  {
   "cell_type": "markdown",
   "metadata": {},
   "source": [
    "## Usage With Arrays"
   ]
  },
  {
   "cell_type": "code",
   "execution_count": 1,
   "metadata": {},
   "outputs": [],
   "source": [
    "const arr = [1, 2, 3, 4];\n",
    "const arr2 = [5, 6, 7, 8];"
   ]
  },
  {
   "cell_type": "markdown",
   "metadata": {},
   "source": [
    "Suppose we have two arrays and we are interested in copying their values into a single array. How would we accomplish this? Normally, we might attempt to iterate over each, or perhaps use a flatmap operation to map them into a single array. However, this process is much simpler using the spread operator!  When used the array effectively becomes a set of its individual values, such that `[...arr]` is effectively `[1, 2, 3, 4]`, and `[...arr, ...arr2]` is effectively `[1, 2, 3, 4, 5, 6, 7, 8]`!"
   ]
  },
  {
   "cell_type": "code",
   "execution_count": 2,
   "metadata": {},
   "outputs": [
    {
     "name": "stdout",
     "output_type": "stream",
     "text": [
      "[ 1, 2, 3, 4, 5, 6, 7, 8 ]\n"
     ]
    }
   ],
   "source": [
    "const result = [...arr, ...arr2];\n",
    "console.log(result);"
   ]
  },
  {
   "cell_type": "markdown",
   "metadata": {},
   "source": [
    "## Usage with Objects\n",
    "\n",
    "The spread operator can also be used on objects!  When used with an object, it attempts to spread the fields of one object into another. This can be utilized to very easily create a shallow copy of an object, or to shallowly merge multiple objects."
   ]
  },
  {
   "cell_type": "code",
   "execution_count": 3,
   "metadata": {},
   "outputs": [
    {
     "name": "stdout",
     "output_type": "stream",
     "text": [
      "{ name: 'Abby', points: 22, favorites: { food: 'Ice Cream' } }\n"
     ]
    }
   ],
   "source": [
    "const person = {\n",
    "    name: 'Abby',\n",
    "    points: 22,\n",
    "    favorites: {\n",
    "        food: 'Ice Cream'\n",
    "    }\n",
    "}\n",
    "console.log(person);"
   ]
  },
  {
   "cell_type": "code",
   "execution_count": 4,
   "metadata": {},
   "outputs": [
    {
     "name": "stdout",
     "output_type": "stream",
     "text": [
      "{ name: 'Abby', points: 22, favorites: { food: 'Ice Cream' } }\n",
      "{ name: 'Abby', points: 30, favorites: { food: 'Ice Cream' } }\n"
     ]
    }
   ],
   "source": [
    "const updatedProfile = {\n",
    "    points: 30,\n",
    "};\n",
    "\n",
    "const updatedPerson = {...person, ...updatedProfile};\n",
    "console.log(person);\n",
    "console.log(updatedPerson);"
   ]
  },
  {
   "cell_type": "markdown",
   "metadata": {},
   "source": [
    "Note in the above example, we have not mutated the original object, but were able to combine the changed value from `updatedProfile` and `person` to create the new object `updatedPerson` representing the new state. Note that the order the operators are used is important! Properties provided later will replace those defined earlier."
   ]
  },
  {
   "cell_type": "code",
   "execution_count": 5,
   "metadata": {},
   "outputs": [
    {
     "name": "stdout",
     "output_type": "stream",
     "text": [
      "{ name: 'Abby', points: 22, favorites: { food: 'Ice Cream' } }\n",
      "{ points: 22, name: 'Abby', favorites: { food: 'Ice Cream' } }\n"
     ]
    }
   ],
   "source": [
    "const poorlySpreadUpdatedPerson = {...updatedProfile, ...person};\n",
    "console.log(person);\n",
    "console.log(poorlySpreadUpdatedPerson);"
   ]
  },
  {
   "cell_type": "raw",
   "metadata": {},
   "source": [
    "The above cell demonstrates this problem. Because `person` was spread second, the original value of `points` overwrote the value of `points` in `updatedProfile`. We should ensure that newer values are spread later."
   ]
  },
  {
   "cell_type": "markdown",
   "metadata": {},
   "source": [
    "### Working with deep objects\n",
    "\n",
    "The spread object is great for merging shallow objects, but creating a deep copy is still a challange. This is because it does not attempt to rescursivly merge values - it will simply replace the object reference of keys defined on the spread object. In many cases we intend to also merge this content so this requires additional logic.\n",
    "\n",
    "In the following example, we will demonstrate this by attempting to merge new content into the `favorites` object refrence of `person`."
   ]
  },
  {
   "cell_type": "code",
   "execution_count": 6,
   "metadata": {},
   "outputs": [
    {
     "name": "stdout",
     "output_type": "stream",
     "text": [
      "{ name: 'Abby', points: 22, favorites: { food: 'Ice Cream' } }\n",
      "{ points: 35, favorites: { color: 'Blue', animal: 'Tiger' } }\n"
     ]
    }
   ],
   "source": [
    "const updatedProfile2 = {\n",
    "    points: 35,\n",
    "    favorites: {\n",
    "        color: 'Blue',\n",
    "        animal: 'Tiger'\n",
    "    }\n",
    "}\n",
    "console.log(person);\n",
    "console.log(updatedProfile2);"
   ]
  },
  {
   "cell_type": "markdown",
   "metadata": {},
   "source": [
    "Our goal here is to merge the changes present on `updatedProfile2` with `person` to create an object representing the new state of our person. Note specifically that the original object did not have the field `color` or `animal` but did have `food`. Ideally, the new state should now have all three of these fields."
   ]
  },
  {
   "cell_type": "code",
   "execution_count": 7,
   "metadata": {},
   "outputs": [
    {
     "name": "stdout",
     "output_type": "stream",
     "text": [
      "{ name: 'Abby',\n",
      "  points: 35,\n",
      "  favorites: { color: 'Blue', animal: 'Tiger' } }\n"
     ]
    }
   ],
   "source": [
    "const incorrectlyUpdatedPerson = {...person, ...updatedProfile2};\n",
    "console.log(incorrectlyUpdatedPerson);"
   ]
  },
  {
   "cell_type": "markdown",
   "metadata": {},
   "source": [
    "We can see that `incorrectlyUpdatePerson` does not demonstrate the functionality that we hoped for.  The spread operation simply replaced the object referenced by the key `favorites` on the `person` object with that held by `updatedProfile2` causing us to lose this person's favorite food.\n",
    "\n",
    "Instead we should attempt to combine them in separate steps, and then assign the new value. In the next example you can see an additional spread operation to combine the values under the `favorites` key and then assign those in the merging of `person` with `updatedProfile2`."
   ]
  },
  {
   "cell_type": "code",
   "execution_count": 8,
   "metadata": {},
   "outputs": [
    {
     "name": "stdout",
     "output_type": "stream",
     "text": [
      "{ name: 'Abby',\n",
      "  points: 35,\n",
      "  favorites: { food: 'Ice Cream', color: 'Blue', animal: 'Tiger' } }\n"
     ]
    }
   ],
   "source": [
    "const favorites = {...person.favorites, ...updatedProfile2.favorites};\n",
    "const correctlyUpdatedPerson = {\n",
    "    ...person,\n",
    "    ...updatedProfile2,\n",
    "    favorites: favorites\n",
    "};\n",
    "\n",
    "console.log(correctlyUpdatedPerson);"
   ]
  },
  {
   "cell_type": "markdown",
   "metadata": {},
   "source": [
    "### Usage Between Arrays and Objects\n",
    "The spread operator cannot be used effectively from an object reference into an array."
   ]
  },
  {
   "cell_type": "code",
   "execution_count": 9,
   "metadata": {},
   "outputs": [
    {
     "ename": "ReferenceError",
     "evalue": "corrrectlyUpdatedPerson is not defined",
     "output_type": "error",
     "traceback": [
      "evalmachine.<anonymous>:1",
      "const fieldArray = [...corrrectlyUpdatedPerson]; // This should produce a TypeError",
      "                       ^",
      "",
      "ReferenceError: corrrectlyUpdatedPerson is not defined",
      "    at evalmachine.<anonymous>:1:24",
      "    at ContextifyScript.Script.runInThisContext (vm.js:50:33)",
      "    at Object.runInThisContext (vm.js:139:38)",
      "    at run ([eval]:1002:15)",
      "    at onRunRequest ([eval]:829:18)",
      "    at onMessage ([eval]:789:13)",
      "    at emitTwo (events.js:126:13)",
      "    at process.emit (events.js:214:7)",
      "    at emit (internal/child_process.js:772:12)",
      "    at _combinedTickCallback (internal/process/next_tick.js:141:11)"
     ]
    }
   ],
   "source": [
    "const fieldArray = [...corrrectlyUpdatedPerson]; // This should produce a TypeError"
   ]
  },
  {
   "cell_type": "markdown",
   "metadata": {},
   "source": [
    "If you attempt to spread array values into an object, it will not error and will create key references to the values using the index of each array value. We should probably still prefer not combining in this way, as it would likely be more maintainable to spread these values into an array rather than an object."
   ]
  },
  {
   "cell_type": "code",
   "execution_count": 11,
   "metadata": {},
   "outputs": [
    {
     "name": "stdout",
     "output_type": "stream",
     "text": [
      "{ '0': 1, '1': 2, '2': 3, '3': 4 }\n"
     ]
    }
   ],
   "source": [
    "const objFromArr = {...arr};\n",
    "console.log(objFromArr);"
   ]
  },
  {
   "cell_type": "code",
   "execution_count": null,
   "metadata": {},
   "outputs": [],
   "source": []
  }
 ],
 "metadata": {
  "kernelspec": {
   "display_name": "Javascript (Node.js)",
   "language": "javascript",
   "name": "javascript"
  },
  "language_info": {
   "file_extension": ".js",
   "mimetype": "application/javascript",
   "name": "javascript",
   "version": "8.10.0"
  }
 },
 "nbformat": 4,
 "nbformat_minor": 2
}
